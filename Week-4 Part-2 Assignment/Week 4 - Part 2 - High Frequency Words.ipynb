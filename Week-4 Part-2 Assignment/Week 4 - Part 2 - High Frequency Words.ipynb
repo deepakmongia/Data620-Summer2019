{
 "cells": [
  {
   "cell_type": "markdown",
   "metadata": {},
   "source": [
    "# Week 4 - Part 2 - High Frequency Words\n",
    "\n",
    "### Austin Chan, Justin Herman, Deepak Mongia, Michael O'Donnell, Chester Poon\n",
    "\n",
    "## Introduction\n",
    "\n",
    "For this assignment, we decided to analyze the word counts of John Steinbeck's \"East of Eden\". A timeless classic of American literature, East of Eden is a story of a man, aimless, but hopeful as he struggles with sin and misfortune throughout his life in a post-Civil War America. The main character, Adam, meets a host of characters that challenge his perception of the concept of good and evil as the story progresses. This book is particularly interesting because it raises many questions about the nature of man and the capacity of human forgiveness that are still discussed today.\n",
    "\n",
    "Textually speaking, East of Eden boasts a rich vocabulary of words and phrases that are ripe for text analysis. The book is over 500 pages long and has been archived in plain text on archive.org (the link to the raw text can be seen below).\n",
    "\n",
    "https://archive.org/stream/in.ernet.dli.2015.112246/2015.112246.East-Of-Eden-Steinbeck_djvu.txt\n",
    "\n",
    "In this assignment, we will analyze the word counts in East of Eden and see if they follow Zipf's law.\n",
    "\n",
    "## Load necessary packages\n",
    "\n",
    "The code below loads the necessary packages to perform our analysis. The `requests` package is used to fetch text directly from the web. The `pandas` package imports dataframe functionality, similar to R's dataframes. `matplotlib` is used to display plots and figures. `nltk` is used to perform natural language processing tasks like tokenizing, stemming, and transforming words. `scipy` and `numpy` are used to calculate the Zipf's law function so the word counts can be compared to Zipf's law. Matplotlib inline is used to display the plots in the ipython notebook without having to type `plt.show()` every time."
   ]
  },
  {
   "cell_type": "code",
   "execution_count": 51,
   "metadata": {
    "collapsed": true
   },
   "outputs": [],
   "source": [
    "import requests\n",
    "import pandas as pd\n",
    "import matplotlib.pyplot as plt\n",
    "import nltk\n",
    "import ggplot\n",
    "from nltk.tokenize import word_tokenize\n",
    "from nltk.corpus import stopwords\n",
    "from nltk.stem.porter import PorterStemmer\n",
    "\n",
    "from scipy import special\n",
    "import numpy as np\n",
    "\n",
    "%matplotlib inline"
   ]
  },
  {
   "cell_type": "markdown",
   "metadata": {},
   "source": [
    "## Fetching the text\n",
    "\n",
    "The code below fetches the text from github. We loaded the text onto github to make it easier to access for other people who also want to analyze this particular text. The first line specifies the url of the text. The second line uses the `get` function in the `requests` package to fetch the text from github. The text is then stored as one long string into the variable called `corpus`."
   ]
  },
  {
   "cell_type": "code",
   "execution_count": 9,
   "metadata": {
    "collapsed": true
   },
   "outputs": [],
   "source": [
    "url = \"https://raw.githubusercontent.com/austinchan1/Data-620---Web-Analytics/master/Homework%20Week%204%20-%20Part%202/East_of_Eden.txt\"\n",
    "\n",
    "page = requests.get(url)\n",
    "corpus = page.text"
   ]
  },
  {
   "cell_type": "markdown",
   "metadata": {},
   "source": [
    "## Processing the text\n",
    "\n",
    "After fetching the text, we processed the text by tokenizing it, converting all words to lowercase, and stemming the words. For our analysis, a unique word is a lowercase word stem. Defining a unique word in this way is necessary to prevent minor variants of words from being counted as different words. For example, the word \"eaten\" and \"Eat\" without lowercase word stemming would be classified as different words, even though they are the same word in a different tense. Lowercasing both words will transform \"Eat\" into \"eat\" and stemming the words will transform \"eaten\" into \"eat\". Functionally, both words will be changed to \"eat\" and thus, will be counted as the same word.\n",
    "\n",
    "The first line of code tokenizes the corpus, or splits the long string into individual words. The second line of code performs a list comprehension that removes characters that are not alphabet characters and lowercases them. The third line of code stems the words using the Porter Stemmer algorithm. Information about the stemmer can be found here: https://tartarus.org/martin/PorterStemmer/"
   ]
  },
  {
   "cell_type": "code",
   "execution_count": 10,
   "metadata": {
    "collapsed": true
   },
   "outputs": [],
   "source": [
    "tokens = word_tokenize(corpus)\n",
    "words = [word.lower() for word in tokens if word.isalpha()]\n",
    "stems = [PorterStemmer().stem(word) for word in words]"
   ]
  },
  {
   "cell_type": "markdown",
   "metadata": {},
   "source": [
    "## Counting the words\n",
    "\n",
    "The function below counts the words after they have been processed and puts the counts into a dictionary. The function works as follows: the first line initializes a dictionary to store the counts in. The second line starts a for loop that increments a count every time a word is found. If a new word is found, then it will be added to the dictionary. After the loop has been completed, the dictionary of counts is returned.\n",
    "\n",
    "The last line runs the function on the list of stemmed words."
   ]
  },
  {
   "cell_type": "code",
   "execution_count": 11,
   "metadata": {
    "collapsed": true
   },
   "outputs": [],
   "source": [
    "def word_counter(string):\n",
    "    \n",
    "    counts = dict()\n",
    "    \n",
    "    for word in words:\n",
    "        if word in counts:\n",
    "            counts[word] += 1\n",
    "        else:\n",
    "            counts[word] = 1\n",
    "            \n",
    "    return(counts)\n",
    "\n",
    "\n",
    "word_counts = word_counter(stems)"
   ]
  },
  {
   "cell_type": "markdown",
   "metadata": {},
   "source": [
    "## Analysis\n",
    "\n",
    "Now that the words have been counted, the analysis can be conducted. The assignment requested the following metrics and graphs to be made:\n",
    "\n",
    "- The number of total unique words in the corpus.\n",
    "- The number of unique words that make up half the number of total words.\n",
    "- The 200 highest frequency words in the in the corpus with a graph of these words.\n",
    "- A comparison of word frequencies to Zipf's law.\n",
    "\n",
    "### Unique word count\n",
    "\n",
    "Calculating the unique word count is pretty straightforward after creating the word count dictionary. The code below transforms the dictionary into a pandas dataframe and sorts the words in descending order by word count. The `reset_index` function just removes the row names and replaces them with an index that goes from zero to the number of rows minus one. The last line shows the dimension of the word count dataframe.\n",
    "\n",
    "According to the dimensions of the dataframe, there are 12,708 unique words in East of Eden."
   ]
  },
  {
   "cell_type": "code",
   "execution_count": 66,
   "metadata": {},
   "outputs": [
    {
     "data": {
      "text/plain": [
       "(12708, 2)"
      ]
     },
     "execution_count": 66,
     "metadata": {},
     "output_type": "execute_result"
    }
   ],
   "source": [
    "WordCountDF = pd.DataFrame.from_dict(word_counts, orient=\"index\")\n",
    "\n",
    "WordCountDF.columns = [\"Word_Counts\"]\n",
    "\n",
    "WordCountDF = WordCountDF.sort_values(by = \"Word_Counts\", ascending = False)\n",
    "\n",
    "WordCountDF.reset_index(level = 0, inplace = True)\n",
    "\n",
    "#12708 unique words in the corpus\n",
    "WordCountDF.shape"
   ]
  },
  {
   "cell_type": "markdown",
   "metadata": {},
   "source": [
    "### Unique words that are half of total word count\n",
    "\n",
    "To find the number of unique words that make up half the total word count, the word count dataframe is sorted, a cumulative word count is calculated, and the cumulative percentage is calculated. The code in the previous chunk already sorted the words by word count. The first line in the code below uses the `cumsum()` function in the `pandas` package to calculate the cumulative sum of the word count column. The second line of code takes the cumulative word count and divides it by total word count to get the cumulative percentage of words.\n",
    "\n",
    "As seen below, 63 words (remember that Python indices start at zero) make up over 50% of the total word count in East of Eden."
   ]
  },
  {
   "cell_type": "code",
   "execution_count": 71,
   "metadata": {},
   "outputs": [
    {
     "data": {
      "text/html": [
       "<div>\n",
       "<style scoped>\n",
       "    .dataframe tbody tr th:only-of-type {\n",
       "        vertical-align: middle;\n",
       "    }\n",
       "\n",
       "    .dataframe tbody tr th {\n",
       "        vertical-align: top;\n",
       "    }\n",
       "\n",
       "    .dataframe thead th {\n",
       "        text-align: right;\n",
       "    }\n",
       "</style>\n",
       "<table border=\"1\" class=\"dataframe\">\n",
       "  <thead>\n",
       "    <tr style=\"text-align: right;\">\n",
       "      <th></th>\n",
       "      <th>index</th>\n",
       "      <th>Word_Counts</th>\n",
       "      <th>Cumulative_Word_Count</th>\n",
       "      <th>Cumulative_Percentage</th>\n",
       "    </tr>\n",
       "  </thead>\n",
       "  <tbody>\n",
       "    <tr>\n",
       "      <th>60</th>\n",
       "      <td>go</td>\n",
       "      <td>456</td>\n",
       "      <td>93199</td>\n",
       "      <td>0.497181</td>\n",
       "    </tr>\n",
       "    <tr>\n",
       "      <th>61</th>\n",
       "      <td>your</td>\n",
       "      <td>456</td>\n",
       "      <td>93655</td>\n",
       "      <td>0.499613</td>\n",
       "    </tr>\n",
       "    <tr>\n",
       "      <th>62</th>\n",
       "      <td>get</td>\n",
       "      <td>453</td>\n",
       "      <td>94108</td>\n",
       "      <td>0.502030</td>\n",
       "    </tr>\n",
       "    <tr>\n",
       "      <th>63</th>\n",
       "      <td>then</td>\n",
       "      <td>451</td>\n",
       "      <td>94559</td>\n",
       "      <td>0.504436</td>\n",
       "    </tr>\n",
       "    <tr>\n",
       "      <th>64</th>\n",
       "      <td>samuel</td>\n",
       "      <td>440</td>\n",
       "      <td>94999</td>\n",
       "      <td>0.506783</td>\n",
       "    </tr>\n",
       "  </tbody>\n",
       "</table>\n",
       "</div>"
      ],
      "text/plain": [
       "     index  Word_Counts  Cumulative_Word_Count  Cumulative_Percentage\n",
       "60      go          456                  93199               0.497181\n",
       "61    your          456                  93655               0.499613\n",
       "62     get          453                  94108               0.502030\n",
       "63    then          451                  94559               0.504436\n",
       "64  samuel          440                  94999               0.506783"
      ]
     },
     "execution_count": 71,
     "metadata": {},
     "output_type": "execute_result"
    }
   ],
   "source": [
    "WordCountDF[\"Cumulative_Word_Count\"] = WordCountDF.Word_Counts.cumsum()\n",
    "WordCountDF[\"Cumulative_Percentage\"] = WordCountDF.loc[:,\"Cumulative_Word_Count\"]/WordCountDF.loc[:,\"Word_Counts\"].sum()\n",
    "\n",
    "#63 words make up half the words in the book - 187455/2 = 93727.5\n",
    "WordCountDF[60:65]"
   ]
  },
  {
   "cell_type": "markdown",
   "metadata": {},
   "source": [
    "### High frequency words and Zipf's Law\n",
    "\n",
    "The top 200 highest frequency words can be sliced from the word count dataframe by taking the first 200 ordered elements of the dataframe. The relative frequency is calculated using the same method as in the previous chunk, except the relative frequency is based only on the top 200 words rather than all the words in the corpus. The second chunk of code calculates the Zipf distribution between 1 and 200, which will be used to compare against the distribution of the high frequency words. The last chunk plots the Zipf distritubtion (in red) and the word frequency distribution (in blue).\n",
    "\n",
    "According to the graph, the word frequencies in East of Eden appear to follow the Zipf distribution somewhat closely. Both curves exhibit a sharp exponential decrease as the number of unique words increases. However, the word frequency distribution tapers at a slower rate compared to the Zipf distribution, which indicates that Zipf's law is not exact, but rather, is an approximation. "
   ]
  },
  {
   "cell_type": "code",
   "execution_count": 72,
   "metadata": {},
   "outputs": [
    {
     "data": {
      "text/plain": [
       "<matplotlib.axes._subplots.AxesSubplot at 0x1f3e075bb70>"
      ]
     },
     "execution_count": 72,
     "metadata": {},
     "output_type": "execute_result"
    },
    {
     "data": {
      "image/png": "[encoded data removed]",
      "text/plain": [
       "<matplotlib.figure.Figure at 0x1f3e07232b0>"
      ]
     },
     "metadata": {},
     "output_type": "display_data"
    }
   ],
   "source": [
    "Top200_Words = WordCountDF[0:200]\n",
    "\n",
    "Relative_Frequency = Top200_Words.loc[:,\"Word_Counts\"]/Top200_Words.loc[:,\"Word_Counts\"].sum()\n",
    "\n",
    "a = 1\n",
    "x = np.arange(1.0, 200.0)\n",
    "y = (x**(-a) / special.zetac(a))\n",
    "\n",
    "plt.figure(figsize=(20,10))\n",
    "\n",
    "plt.plot(x, (y/max(y)) * 0.07, linewidth=2, color='r')\n",
    "Relative_Frequency.plot(use_index=False)"
   ]
  },
  {
   "cell_type": "markdown",
   "metadata": {},
   "source": [
    "## Comparison to other corpora\n",
    "\n",
    "Most corpora are pretty similar in terms of word frequency. The top words are usually common English stopwords like \"the\", \"and\", and \"a\" or pronouns that do not contribute to the meaning of the corpus in a significant way. This book is no different. The top 10 words in this book are all stopwords (seen below). "
   ]
  },
  {
   "cell_type": "code",
   "execution_count": 73,
   "metadata": {},
   "outputs": [
    {
     "data": {
      "text/html": [
       "<div>\n",
       "<style scoped>\n",
       "    .dataframe tbody tr th:only-of-type {\n",
       "        vertical-align: middle;\n",
       "    }\n",
       "\n",
       "    .dataframe tbody tr th {\n",
       "        vertical-align: top;\n",
       "    }\n",
       "\n",
       "    .dataframe thead th {\n",
       "        text-align: right;\n",
       "    }\n",
       "</style>\n",
       "<table border=\"1\" class=\"dataframe\">\n",
       "  <thead>\n",
       "    <tr style=\"text-align: right;\">\n",
       "      <th></th>\n",
       "      <th>index</th>\n",
       "      <th>Word_Counts</th>\n",
       "      <th>Cumulative_Word_Count</th>\n",
       "      <th>Cumulative_Percentage</th>\n",
       "    </tr>\n",
       "  </thead>\n",
       "  <tbody>\n",
       "    <tr>\n",
       "      <th>0</th>\n",
       "      <td>the</td>\n",
       "      <td>8506</td>\n",
       "      <td>8506</td>\n",
       "      <td>0.045376</td>\n",
       "    </tr>\n",
       "    <tr>\n",
       "      <th>1</th>\n",
       "      <td>and</td>\n",
       "      <td>6980</td>\n",
       "      <td>15486</td>\n",
       "      <td>0.082612</td>\n",
       "    </tr>\n",
       "    <tr>\n",
       "      <th>2</th>\n",
       "      <td>a</td>\n",
       "      <td>4734</td>\n",
       "      <td>20220</td>\n",
       "      <td>0.107866</td>\n",
       "    </tr>\n",
       "    <tr>\n",
       "      <th>3</th>\n",
       "      <td>to</td>\n",
       "      <td>4596</td>\n",
       "      <td>24816</td>\n",
       "      <td>0.132384</td>\n",
       "    </tr>\n",
       "    <tr>\n",
       "      <th>4</th>\n",
       "      <td>i</td>\n",
       "      <td>4088</td>\n",
       "      <td>28904</td>\n",
       "      <td>0.154192</td>\n",
       "    </tr>\n",
       "    <tr>\n",
       "      <th>5</th>\n",
       "      <td>he</td>\n",
       "      <td>3913</td>\n",
       "      <td>32817</td>\n",
       "      <td>0.175066</td>\n",
       "    </tr>\n",
       "    <tr>\n",
       "      <th>6</th>\n",
       "      <td>you</td>\n",
       "      <td>3512</td>\n",
       "      <td>36329</td>\n",
       "      <td>0.193801</td>\n",
       "    </tr>\n",
       "    <tr>\n",
       "      <th>7</th>\n",
       "      <td>of</td>\n",
       "      <td>3324</td>\n",
       "      <td>39653</td>\n",
       "      <td>0.211533</td>\n",
       "    </tr>\n",
       "    <tr>\n",
       "      <th>8</th>\n",
       "      <td>it</td>\n",
       "      <td>3156</td>\n",
       "      <td>42809</td>\n",
       "      <td>0.228369</td>\n",
       "    </tr>\n",
       "    <tr>\n",
       "      <th>9</th>\n",
       "      <td>in</td>\n",
       "      <td>2773</td>\n",
       "      <td>45582</td>\n",
       "      <td>0.243162</td>\n",
       "    </tr>\n",
       "  </tbody>\n",
       "</table>\n",
       "</div>"
      ],
      "text/plain": [
       "  index  Word_Counts  Cumulative_Word_Count  Cumulative_Percentage\n",
       "0   the         8506                   8506               0.045376\n",
       "1   and         6980                  15486               0.082612\n",
       "2     a         4734                  20220               0.107866\n",
       "3    to         4596                  24816               0.132384\n",
       "4     i         4088                  28904               0.154192\n",
       "5    he         3913                  32817               0.175066\n",
       "6   you         3512                  36329               0.193801\n",
       "7    of         3324                  39653               0.211533\n",
       "8    it         3156                  42809               0.228369\n",
       "9    in         2773                  45582               0.243162"
      ]
     },
     "execution_count": 73,
     "metadata": {},
     "output_type": "execute_result"
    }
   ],
   "source": [
    "Top200_Words[0:10]"
   ]
  },
  {
   "cell_type": "markdown",
   "metadata": {},
   "source": [
    "Ignoring the stopwords, there are some important differences between this corpus and all corpora. Being a work of narrative fiction published in 1952, many of the common words are characters and verbs (seen below). This would make sense because stories typically involve characters going places and doing things, which is indicative of events happening in the narrative. Not all words in all corpora are narrative fiction, so it is likely that the word frequencies of other corpora differ by genre of writing, though it is difficult to say without a comprehensive corpus from other sources. \n",
    "\n",
    "Ultimately, it is difficult to judge the contentes of text using word count alone. Most corpora are very similar in word frequency and stopword usage, which makes them difficult to distinguish from each other without digging deeper. In terms of classification, it would be useful to use more informative metrics like term frequency-inverse document frequency (tf-idf) to extract meaning from texts."
   ]
  },
  {
   "cell_type": "code",
   "execution_count": 78,
   "metadata": {},
   "outputs": [
    {
     "data": {
      "text/html": [
       "<div>\n",
       "<style scoped>\n",
       "    .dataframe tbody tr th:only-of-type {\n",
       "        vertical-align: middle;\n",
       "    }\n",
       "\n",
       "    .dataframe tbody tr th {\n",
       "        vertical-align: top;\n",
       "    }\n",
       "\n",
       "    .dataframe thead th {\n",
       "        text-align: right;\n",
       "    }\n",
       "</style>\n",
       "<table border=\"1\" class=\"dataframe\">\n",
       "  <thead>\n",
       "    <tr style=\"text-align: right;\">\n",
       "      <th></th>\n",
       "      <th>index</th>\n",
       "      <th>Word_Counts</th>\n",
       "      <th>Cumulative_Word_Count</th>\n",
       "      <th>Cumulative_Percentage</th>\n",
       "    </tr>\n",
       "  </thead>\n",
       "  <tbody>\n",
       "    <tr>\n",
       "      <th>14</th>\n",
       "      <td>said</td>\n",
       "      <td>1976</td>\n",
       "      <td>56478</td>\n",
       "      <td>0.301288</td>\n",
       "    </tr>\n",
       "    <tr>\n",
       "      <th>23</th>\n",
       "      <td>adam</td>\n",
       "      <td>1040</td>\n",
       "      <td>68907</td>\n",
       "      <td>0.367592</td>\n",
       "    </tr>\n",
       "    <tr>\n",
       "      <th>42</th>\n",
       "      <td>know</td>\n",
       "      <td>592</td>\n",
       "      <td>83500</td>\n",
       "      <td>0.445440</td>\n",
       "    </tr>\n",
       "    <tr>\n",
       "      <th>44</th>\n",
       "      <td>like</td>\n",
       "      <td>585</td>\n",
       "      <td>84674</td>\n",
       "      <td>0.451703</td>\n",
       "    </tr>\n",
       "    <tr>\n",
       "      <th>47</th>\n",
       "      <td>would</td>\n",
       "      <td>579</td>\n",
       "      <td>86413</td>\n",
       "      <td>0.460980</td>\n",
       "    </tr>\n",
       "    <tr>\n",
       "      <th>49</th>\n",
       "      <td>could</td>\n",
       "      <td>557</td>\n",
       "      <td>87528</td>\n",
       "      <td>0.466928</td>\n",
       "    </tr>\n",
       "    <tr>\n",
       "      <th>51</th>\n",
       "      <td>lee</td>\n",
       "      <td>553</td>\n",
       "      <td>88634</td>\n",
       "      <td>0.472828</td>\n",
       "    </tr>\n",
       "    <tr>\n",
       "      <th>56</th>\n",
       "      <td>want</td>\n",
       "      <td>492</td>\n",
       "      <td>91288</td>\n",
       "      <td>0.486986</td>\n",
       "    </tr>\n",
       "    <tr>\n",
       "      <th>57</th>\n",
       "      <td>one</td>\n",
       "      <td>490</td>\n",
       "      <td>91778</td>\n",
       "      <td>0.489600</td>\n",
       "    </tr>\n",
       "    <tr>\n",
       "      <th>60</th>\n",
       "      <td>go</td>\n",
       "      <td>456</td>\n",
       "      <td>93199</td>\n",
       "      <td>0.497181</td>\n",
       "    </tr>\n",
       "    <tr>\n",
       "      <th>62</th>\n",
       "      <td>get</td>\n",
       "      <td>453</td>\n",
       "      <td>94108</td>\n",
       "      <td>0.502030</td>\n",
       "    </tr>\n",
       "    <tr>\n",
       "      <th>64</th>\n",
       "      <td>samuel</td>\n",
       "      <td>440</td>\n",
       "      <td>94999</td>\n",
       "      <td>0.506783</td>\n",
       "    </tr>\n",
       "    <tr>\n",
       "      <th>66</th>\n",
       "      <td>think</td>\n",
       "      <td>437</td>\n",
       "      <td>95875</td>\n",
       "      <td>0.511456</td>\n",
       "    </tr>\n",
       "    <tr>\n",
       "      <th>67</th>\n",
       "      <td>back</td>\n",
       "      <td>431</td>\n",
       "      <td>96306</td>\n",
       "      <td>0.513755</td>\n",
       "    </tr>\n",
       "    <tr>\n",
       "      <th>70</th>\n",
       "      <td>little</td>\n",
       "      <td>401</td>\n",
       "      <td>97553</td>\n",
       "      <td>0.520408</td>\n",
       "    </tr>\n",
       "    <tr>\n",
       "      <th>71</th>\n",
       "      <td>got</td>\n",
       "      <td>395</td>\n",
       "      <td>97948</td>\n",
       "      <td>0.522515</td>\n",
       "    </tr>\n",
       "    <tr>\n",
       "      <th>72</th>\n",
       "      <td>cal</td>\n",
       "      <td>395</td>\n",
       "      <td>98343</td>\n",
       "      <td>0.524622</td>\n",
       "    </tr>\n",
       "    <tr>\n",
       "      <th>74</th>\n",
       "      <td>good</td>\n",
       "      <td>394</td>\n",
       "      <td>99131</td>\n",
       "      <td>0.528826</td>\n",
       "    </tr>\n",
       "    <tr>\n",
       "      <th>76</th>\n",
       "      <td>man</td>\n",
       "      <td>380</td>\n",
       "      <td>99892</td>\n",
       "      <td>0.532885</td>\n",
       "    </tr>\n",
       "    <tr>\n",
       "      <th>80</th>\n",
       "      <td>well</td>\n",
       "      <td>364</td>\n",
       "      <td>101360</td>\n",
       "      <td>0.540716</td>\n",
       "    </tr>\n",
       "  </tbody>\n",
       "</table>\n",
       "</div>"
      ],
      "text/plain": [
       "     index  Word_Counts  Cumulative_Word_Count  Cumulative_Percentage\n",
       "14    said         1976                  56478               0.301288\n",
       "23    adam         1040                  68907               0.367592\n",
       "42    know          592                  83500               0.445440\n",
       "44    like          585                  84674               0.451703\n",
       "47   would          579                  86413               0.460980\n",
       "49   could          557                  87528               0.466928\n",
       "51     lee          553                  88634               0.472828\n",
       "56    want          492                  91288               0.486986\n",
       "57     one          490                  91778               0.489600\n",
       "60      go          456                  93199               0.497181\n",
       "62     get          453                  94108               0.502030\n",
       "64  samuel          440                  94999               0.506783\n",
       "66   think          437                  95875               0.511456\n",
       "67    back          431                  96306               0.513755\n",
       "70  little          401                  97553               0.520408\n",
       "71     got          395                  97948               0.522515\n",
       "72     cal          395                  98343               0.524622\n",
       "74    good          394                  99131               0.528826\n",
       "76     man          380                  99892               0.532885\n",
       "80    well          364                 101360               0.540716"
      ]
     },
     "execution_count": 78,
     "metadata": {},
     "output_type": "execute_result"
    }
   ],
   "source": [
    "stop_words = set(stopwords.words(\"english\"))\n",
    "\n",
    "filtered_words = WordCountDF[~WordCountDF[\"index\"].isin(stop_words)]\n",
    "\n",
    "filtered_words[0:20]"
   ]
  }
 ],
 "metadata": {
  "kernelspec": {
   "display_name": "Python 3",
   "language": "python",
   "name": "python3"
  },
  "language_info": {
   "codemirror_mode": {
    "name": "ipython",
    "version": 3
   },
   "file_extension": ".py",
   "mimetype": "text/x-python",
   "name": "python",
   "nbconvert_exporter": "python",
   "pygments_lexer": "ipython3",
   "version": "3.6.3"
  }
 },
 "nbformat": 4,
 "nbformat_minor": 2
}
